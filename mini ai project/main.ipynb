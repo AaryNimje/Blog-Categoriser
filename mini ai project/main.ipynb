{
 "cells": [
  {
   "metadata": {
    "ExecuteTime": {
     "end_time": "2025-05-04T11:48:26.662898Z",
     "start_time": "2025-05-04T11:48:22.883280Z"
    }
   },
   "cell_type": "code",
   "source": [
    "import groq\n",
    "import matplotlib.pyplot as plt\n",
    "\n",
    "with open(\"api_key.env\", \"r\") as f:\n",
    "    for line in f:\n",
    "        if line.startswith(\"GROQ_API_KEY=\"):\n",
    "            api_key = line.strip().split(\"=\", 1)[1]\n",
    "            break\n",
    "\n",
    "client = groq.Groq(api_key=api_key)\n",
    "\n",
    "def classify_blog(content):\n",
    "    \"\"\"Classifying blog content using Groq API client\"\"\"\n",
    "    examples = \"\"\"\n",
    "Blog: The new iPhone has impressive camera capabilities with its 48MP main sensor.\n",
    "Category: Tech\n",
    "Confidence: 0.95\n",
    "\n",
    "Blog: Recent studies suggest that intermittent fasting may have benefits beyond weight loss.\n",
    "Category: Health\n",
    "Confidence: 0.90\n",
    "\n",
    "Blog: The Federal Reserve's decision to raise interest rates signals their commitment to fighting inflation.\n",
    "Category: Finance\n",
    "Confidence: 0.88\n",
    "\"\"\"\n",
    "    prompt = f\"\"\"Classify this blog into a category like the above examples and Only and Only give me its Category and then confidence without any more explanation.\n",
    "\n",
    "Give a confidence score between 0 and 1 based on these guidelines:\n",
    "- 0.9-1.0: Very clear match with strong category-specific terminology\n",
    "- 0.7-0.9: Good match with some category-specific terms\n",
    "- 0.5-0.7: Moderate match with mixed content\n",
    "- 0.3-0.5: Weak match with only slight relation to category\n",
    "- 0.0-0.3: Very weak match\n",
    "\n",
    "    {examples}\n",
    "\n",
    "Blog: {content}\n",
    "\"\"\"\n",
    "\n",
    "    try:\n",
    "        response = client.chat.completions.create(\n",
    "            model=\"meta-llama/llama-4-scout-17b-16e-instruct\",\n",
    "            messages=[{\"role\": \"user\", \"content\": prompt}]\n",
    "        )\n",
    "        text_response = response.choices[0].message.content\n",
    "        lines = text_response.strip().split('\\n')\n",
    "        guessed_category = lines[0].replace('Category:', '').strip()\n",
    "        confidence_value = float(lines[1].replace('Confidence:', '').strip())\n",
    "\n",
    "        return guessed_category, confidence_value\n",
    "    except Exception as e:\n",
    "        print(f\"API error: {type(e).__name__} - {e}\")\n",
    "        return \"Unknown\", 0.0\n",
    "\n",
    "#USER INPUT\n",
    "blog_content = input(\"Enter your blog content: \")\n",
    "print(f\"Processing blog with {len(blog_content.split())} words\")\n",
    "\n",
    "category, confidence = classify_blog(blog_content)\n",
    "\n",
    "#OUTPUT\n",
    "print(f\"\\nCategory: {category}\")\n",
    "print(f\"Confidence: {confidence:.2f}\")\n",
    "plt.figure(figsize=(6, 2))\n",
    "plt.barh(0, confidence, color='blue')\n",
    "plt.xlim(0, 1)\n",
    "plt.yticks([])\n",
    "plt.title('Confidence Level')\n",
    "for i in [0.2, 0.4, 0.6, 0.8, 1.0]:\n",
    "    plt.axvline(x=i, color='gray', linestyle='--', alpha=0.3)\n",
    "plt.tight_layout()\n",
    "plt.show()"
   ],
   "id": "7f2e2ec12308e2af",
   "outputs": [
    {
     "name": "stdout",
     "output_type": "stream",
     "text": [
      "Processing blog with 40 words\n",
      "\n",
      "Category: Tech\n",
      "Confidence: 0.92\n"
     ]
    },
    {
     "data": {
      "text/plain": [
       "<Figure size 600x200 with 1 Axes>"
      ],
      "image/png": "[encoded data removed]"
     },
     "metadata": {},
     "output_type": "display_data"
    }
   ],
   "execution_count": 43
  },
  {
   "metadata": {},
   "cell_type": "markdown",
   "source": [
    "The blog pasted above was\n",
    "\"Breakthrough in material science yields self-healing concrete incorporating specialized bacteria. When microcracks form, capsules rupture and bacteria consume calcium-rich nutrients, producing limestone that repairs damage automatically. Infrastructure lifespans could potentially double, dramatically reducing maintenance costs and environmental impact of construction.\"\n",
    "Its category is 'Science' but models detects it as 'Tech' that too with and confidence of '0.92' which is clearly wrong."
   ],
   "id": "c1c186bdcebded35"
  },
  {
   "metadata": {
    "ExecuteTime": {
     "end_time": "2025-05-04T11:48:19.168069Z",
     "start_time": "2025-05-04T11:48:15.204174Z"
    }
   },
   "cell_type": "code",
   "source": [
    "import groq\n",
    "import matplotlib.pyplot as plt\n",
    "with open(\"api_key.env\", \"r\") as f:\n",
    "    for line in f:\n",
    "        if line.startswith(\"GROQ_API_KEY=\"):\n",
    "            api_key = line.strip().split(\"=\", 1)[1]\n",
    "            break\n",
    "\n",
    "client = groq.Groq(api_key=api_key)\n",
    "\n",
    "def classify_blog(content):\n",
    "    \"\"\"Classifying blog content using Groq API client\"\"\"\n",
    "    examples = \"\"\"\n",
    "Blog: The new iPhone has impressive camera capabilities with its 48MP main sensor. The A16 Bionic chip delivers exceptional performance for mobile gaming and augmented reality applications.\n",
    "Category: Tech\n",
    "Confidence: 0.95\n",
    "\n",
    "Blog: Recent studies suggest that intermittent fasting may have benefits beyond weight loss, including improved insulin sensitivity and cellular repair processes called autophagy.\n",
    "Category: Health\n",
    "Confidence: 0.90\n",
    "\n",
    "Blog: The Federal Reserve's decision to raise interest rates signals their commitment to fighting inflation despite concerns about economic growth slowdown.\n",
    "Category: Finance\n",
    "Confidence: 0.88\n",
    "\n",
    "Blog: Barcelona offers stunning architecture, vibrant street life, and beautiful beaches. The Sagrada Familia and Park Güell showcase Gaudí's unique vision.\n",
    "Category: Travel\n",
    "Confidence: 0.93\n",
    "\n",
    "Blog: The fusion of traditional Mexican flavors with modern culinary techniques is creating exciting new dishes that honor heritage while innovating.\n",
    "Category: Food\n",
    "Confidence: 0.89\n",
    "\"\"\"\n",
    "    prompt = f\"\"\"Classify this blog into the most appropriate category based on its main topic and focus.\n",
    "\n",
    "First read the entire content carefully, understanding:\n",
    "- Understand the primary topic that is given\n",
    "- Terminology used in it\n",
    "- The overall meaning of the content\n",
    "\n",
    "When choosing a category, consider what field or domain the content primarily belongs to. If it covers multiple topics, select the one that fits the discussion most.\n",
    "\n",
    "Give a confidence score between 0 and 1 based on these guidelines:\n",
    "- 0.9-1.0: Very clear match with specialized terminology and focused entirely on this topic\n",
    "- 0.7-0.9: Strong match with topic-specific terms and primarily about this subject\n",
    "- 0.5-0.7: Moderate match with some relevant terminology and significant focus on this topic\n",
    "- 0.3-0.5: Weak match with minimal specific terminology and only partial focus on topic\n",
    "- 0.0-0.3: Very weak match with little relation to the category\n",
    "\n",
    "Return ONLY the category name and confidence score in this exact format:\n",
    "Category: [category]\n",
    "Confidence: [number]\n",
    "\n",
    "Examples:\n",
    "{examples}\n",
    "\n",
    "Blog: {content}\n",
    "\"\"\"\n",
    "\n",
    "    try:\n",
    "        response = client.chat.completions.create(\n",
    "            model=\"meta-llama/llama-4-scout-17b-16e-instruct\",\n",
    "            messages=[{\"role\": \"user\", \"content\": prompt}]\n",
    "        )\n",
    "\n",
    "        text_response = response.choices[0].message.content\n",
    "\n",
    "        lines = text_response.strip().split('\\n')\n",
    "        ctg = lines[0].replace('Category:', '').strip()\n",
    "        cfd = float(lines[1].replace('Confidence:', '').strip())\n",
    "        return ctg, cfd\n",
    "    except Exception as e:\n",
    "        print(f\"API error: {type(e).__name__} - {e}\")\n",
    "        return \"Unknown\", 0.0\n",
    "#INPUT\n",
    "blog_content = input(\"Enter your blog content: \")\n",
    "print(f\"Processing blog with {len(blog_content.split())} words\")\n",
    "\n",
    "category, confidence = classify_blog(blog_content)\n",
    "\n",
    "#OUTPUT\n",
    "print(f\"\\nCategory: {category}\")\n",
    "print(f\"Confidence: {confidence:.2f}\")\n",
    "plt.figure(figsize=(6, 2))\n",
    "plt.barh(0, confidence, color='blue')\n",
    "plt.xlim(0, 1)\n",
    "plt.yticks([])\n",
    "plt.title('Confidence Level')\n",
    "for i in [0.2, 0.4, 0.6, 0.8, 1.0]:\n",
    "    plt.axvline(x=i, color='gray', linestyle='--', alpha=0.3)\n",
    "plt.tight_layout()\n",
    "plt.show()"
   ],
   "id": "2fde7f88f905d3bc",
   "outputs": [
    {
     "name": "stdout",
     "output_type": "stream",
     "text": [
      "Processing blog with 40 words\n",
      "\n",
      "Category: Science\n",
      "Confidence: 0.98\n"
     ]
    },
    {
     "data": {
      "text/plain": [
       "<Figure size 600x200 with 1 Axes>"
      ],
      "image/png": "[encoded data removed]"
     },
     "metadata": {},
     "output_type": "display_data"
    }
   ],
   "execution_count": 42
  },
  {
   "metadata": {},
   "cell_type": "markdown",
   "source": [
    "The blog which was pasted above was\n",
    "\"Breakthrough in material science yields self-healing concrete incorporating specialized bacteria. When microcracks form, capsules rupture and bacteria consume calcium-rich nutrients, producing limestone that repairs damage automatically. Infrastructure lifespans could potentially double, dramatically reducing maintenance costs and environmental impact of construction.\"\n",
    "Its category is 'Science' and the model detects it as 'Science' that too with and confidence of '0.98' which is very accurate."
   ],
   "id": "4e24d5d3f53ca1ec"
  },
  {
   "metadata": {},
   "cell_type": "markdown",
   "source": [
    "**CONCLUSION**\n",
    "--Both the code blocks use the same model as well as the same API but produce different results, WHY?\n",
    "The answer lays in the prompt which was given to both the code block which was different. The first code block has a simple prompt which then returns a value without analyzing the category it gave very well whereas the second code block is given a much detailed prompt which allows it to detect the category more thoroughly making it more accurate.\n",
    "Still there may be scenarios where due to limited traffic and temperature the smaller prompt may be favourable as it is almost as accurate as the second code block when defining the common blog topics.\n",
    "This provides us with a conclusion of how a simple prompt can change the outcome of the model highly making it seem less accurate when it may not be dependent on it in the first place."
   ],
   "id": "94b317c23bb2b1ba"
  }
 ],
 "metadata": {
  "language_info": {
   "name": "python"
  }
 },
 "nbformat": 4,
 "nbformat_minor": 5
}
